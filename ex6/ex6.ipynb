{
 "cells": [
  {
   "cell_type": "markdown",
   "metadata": {},
   "source": [
    "# Exercise 6. Strings and Text\n",
    "\n",
    "#### Strings\n",
    "\n",
    "Either text wrapped by `\"\"` or `''`. <br/>\n",
    "We can have one of the types of quotes into the another, but we cannot mix the endings! <br/>\n",
    "`string = \"Gonna place a single-quote here: '\"` -> this works <br/>\n",
    "`string = 'Hello Vitor\"` -> this doesn't <br/>\n",
    "The formatted string mechanism used in ex5 is called an f-string: `f\"example string with {my_var}\"` <br/>\n",
    "There is also another way of doing it, the `.format()` syntax. That is useful to apply formatting to an already formed strings, per example in loops, there's an example below. <br/>\n",
    "String concatenation can be done with the `+` sign, e.g. `my_str = one_part + the_other`"
   ]
  },
  {
   "cell_type": "code",
   "execution_count": 5,
   "metadata": {},
   "outputs": [
    {
     "name": "stdout",
     "output_type": "stream",
     "text": [
      "There are 10 types of people.\n",
      "Those who know binary and those who don't.\n",
      "I said: There are 10 types of people.\n",
      "I also said: 'Those who know binary and those who don't.'\n",
      "Isn't that joke so funny?! False\n",
      "This is the left side of... a string with a right side.\n"
     ]
    }
   ],
   "source": [
    "types_of_people = 10\n",
    "x = f\"There are {types_of_people} types of people.\"\n",
    "\n",
    "binary = \"binary\"\n",
    "do_not = \"don't\"\n",
    "y = f\"Those who know {binary} and those who {do_not}.\"\n",
    "\n",
    "print(x)\n",
    "print(y)\n",
    "\n",
    "print(f\"I said: {x}\")\n",
    "print(f\"I also said: '{y}'\")\n",
    "\n",
    "hilarious = False\n",
    "joke_evaluation = \"Isn't that joke so funny?! {}\"\n",
    "\n",
    "print(joke_evaluation.format(hilarious))\n",
    "\n",
    "w = \"This is the left side of...\"\n",
    "e = \" a string with a right side.\"\n",
    "\n",
    "print(w + e)"
   ]
  },
  {
   "cell_type": "markdown",
   "metadata": {},
   "source": [
    "## Study Drills\n",
    "\n",
    "#### 2. Find all the places where a string is put inside a string. There are four places.\n",
    "\n",
    "Line 6, line 11 and line 12."
   ]
  }
 ],
 "metadata": {
  "kernelspec": {
   "display_name": "Python 3",
   "language": "python",
   "name": "python3"
  },
  "language_info": {
   "codemirror_mode": {
    "name": "ipython",
    "version": 3
   },
   "file_extension": ".py",
   "mimetype": "text/x-python",
   "name": "python",
   "nbconvert_exporter": "python",
   "pygments_lexer": "ipython3",
   "version": "3.8.5"
  }
 },
 "nbformat": 4,
 "nbformat_minor": 4
}
