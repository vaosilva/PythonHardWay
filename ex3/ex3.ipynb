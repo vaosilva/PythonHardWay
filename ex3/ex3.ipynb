{
 "cells": [
  {
   "cell_type": "markdown",
   "metadata": {},
   "source": [
    "# Exercise 3. Numbers and Math\n",
    "\n",
    "#### Symbols and Math\n",
    "\n",
    "+: plus symbol and does sums \\\n",
    "-: minus symbol and does subtractions \\\n",
    "/: slash symbol and does division \\\n",
    "\\*: asterik symbol and does multiplication \\\n",
    "%: percent symbol and does module operation \\\n",
    "<: less-than symbol and does comparision \\\n",
    "\\>: greather-than symbol and does comparision  \n",
    "<=: less-than-equal symbol and does comparision \\\n",
    "\\>=: greather-than-equal symbol and does comparision"
   ]
  },
  {
   "cell_type": "code",
   "execution_count": 5,
   "metadata": {},
   "outputs": [
    {
     "name": "stdout",
     "output_type": "stream",
     "text": [
      "I will now count my chickens:\n",
      "Hens 30.0\n",
      "Roosters 97\n",
      "Now I will count the eggs:\n",
      "6.75\n",
      "Is it true that 3 + 2 < 5 -7?\n",
      "False\n",
      "What is 3 + 2? 5\n",
      "What is 5 - 7? -2\n",
      "Oh, that's why it's False.\n",
      "How about some more.\n",
      "Is it greater? True\n",
      "Is it greater or equal? True\n",
      "Is it less or equal? False\n"
     ]
    }
   ],
   "source": [
    "print(\"I will now count my chickens:\")\n",
    "\n",
    "print(\"Hens\", 25 + 30 / 6)\n",
    "# divides 30 by 6 and then adds 25\n",
    "print(\"Roosters\", 100 - 25 * 3 % 4)  \n",
    "# * symbol has precedency over %, so the operation is 25 * 3 = 75, \n",
    "# then 100 - 75 % 4, in which the module is calculated first, 75 % 4 = 3,\n",
    "# so you end up having 100 - 3 = 97\n",
    "\n",
    "print(\"Now I will count the eggs:\")\n",
    "\n",
    "print(3 + 2 + 1 - 5 + 4 % 2 - 1 / 4 + 6)\n",
    "# first we handle the module and division, 4 % 2 = 0 and 1 / 4 = 0.25\n",
    "# then is basic sums and subtractions ending up with 6.75\n",
    "\n",
    "print(\"Is it true that 3 + 2 < 5 - 7?\")\n",
    "\n",
    "print(3 + 2 < 5 - 7)\n",
    "# it solves the arithmetic and then compares the values in the left and right\n",
    "# if the left one is less than the right one, it return true, in the other cases we get false returned\n",
    "\n",
    "print(\"What is 3 + 2?\", 3 + 2)\n",
    "print(\"What is 5 - 7?\", 5 - 7)\n",
    "# we're giving the results of the operations as input to the print() function\n",
    "\n",
    "print(\"Oh, that's why it's False.\")\n",
    "\n",
    "print(\"How about some more.\")\n",
    "\n",
    "print(\"Is it greater?\", 5 > -2)\n",
    "print(\"Is it greater or equal?\", 5 >= -2)\n",
    "print(\"Is it less or equal?\", 5 <= -2)\n",
    "# same logic as the above but with the respective conditions"
   ]
  },
  {
   "cell_type": "markdown",
   "metadata": {},
   "source": [
    "## Study Drills\n",
    "\n",
    "#### 1. Below each line, use the # to write a comment to yourself explaining what the line does.\n",
    "\n",
    "#### 2. Remember in Exercise 0 when you started python3.6? Start python3.6 this way again and, using the math operators, use Python as a calculator.\n",
    "\n",
    "Solution? Running the interpreter in the command line and playing around. In windows, start+r, write \"cmd\" and click enter, type \"python\" and click enter and then time to play.\n",
    "\n",
    "#### 3. Find something you need to calculate and write a new .py file that does it.\n",
    "\n",
    "I'm running Git Bash at the moment so I can open Nano and type something, and then execute as \"python sd3.py\"\n",
    "\n",
    "#### 4. Rewrite ex3.py to use floating point numbers so it’s more accurate. 20.0 is floating point.\n",
    "\n",
    "Operations below:"
   ]
  },
  {
   "cell_type": "code",
   "execution_count": 6,
   "metadata": {},
   "outputs": [
    {
     "name": "stdout",
     "output_type": "stream",
     "text": [
      "I will now count my chickens:\n",
      "Hens 30.0\n",
      "Roosters 97.0\n",
      "Now I will count the eggs:\n",
      "6.75\n",
      "Is it true that 3 + 2 < 5 - 7?\n",
      "False\n",
      "What is 3 + 2? 5.0\n",
      "What is 5 - 7? -2.0\n",
      "Oh, that's why it's False.\n",
      "How about some more.\n",
      "Is it greater? True\n",
      "Is it greater or equal? True\n",
      "Is it less or equal? False\n"
     ]
    }
   ],
   "source": [
    "print(\"Hens\", 25. + 30. / 6.)\n",
    "print(\"Roosters\", 100. - 25. * 3. % 4.)  \n",
    "print(3. + 2. + 1. - 5. + 4. % 2. - 1. / 4. + 6.)\n",
    "print(3. + 2. < 5. - 7.)\n",
    "print(\"What is 3 + 2?\", 3. + 2.)\n",
    "print(\"What is 5 - 7?\", 5. - 7.)\n",
    "print(\"Is it greater?\", 5. > -2.)\n",
    "print(\"Is it greater or equal?\", 5. >= -2.)\n",
    "print(\"Is it less or equal?\", 5. <= -2.)\n",
    "# using floor() instead of . or .0 does the same but gets the line longer"
   ]
  },
  {
   "cell_type": "markdown",
   "metadata": {},
   "source": [
    "## Common Student Questions\n",
    "\n",
    "#### What is the order of operations?\n",
    "\n",
    "Parentheses -> Exponents -> Multiplication and Division -> Module > Addition and Subtraction\n",
    "\n",
    "`>>>(2 + 1) ** 2 * 1 % 3 + 1` \\\n",
    "`1`\n",
    "\n",
    "## Extras I remembered\n",
    "\n",
    "\\*\\*: reads as raised to the power of and is the exponent symbol in python \\\n",
    "//: operator to the integer division, e.g. 3//2 = 1"
   ]
  }
 ],
 "metadata": {
  "kernelspec": {
   "display_name": "Python 3",
   "language": "python",
   "name": "python3"
  },
  "language_info": {
   "codemirror_mode": {
    "name": "ipython",
    "version": 3
   },
   "file_extension": ".py",
   "mimetype": "text/x-python",
   "name": "python",
   "nbconvert_exporter": "python",
   "pygments_lexer": "ipython3",
   "version": "3.8.5"
  }
 },
 "nbformat": 4,
 "nbformat_minor": 4
}
